{
 "cells": [
  {
   "cell_type": "code",
   "execution_count": null,
   "metadata": {},
   "outputs": [],
   "source": [
    "##imports"
   ]
  },
  {
   "cell_type": "code",
   "execution_count": null,
   "metadata": {},
   "outputs": [],
   "source": [
    "modeldir_FasterRCNN = 'models/faster_rcnn_resnet50_v1_640x640_coco17_tpu-8'\n",
    "pipelinedir_FasterRCNN = 'models/faster_rcnn_resnet50_v1_640x640_coco17_tpu-8/pipeline.config'\n",
    "\n",
    "modeldir_EfficientDet = 'models/efficientdet_d0_coco17_tpu-32'\n",
    "pipelinedir_EfficientDet = 'models/efficientdet_d0_coco17_tpu-32/pipeline.config'\n",
    "\n",
    "modeldir_YOLO = 'models/x'\n",
    "pipelinedir_YOLO = 'models/x'"
   ]
  },
  {
   "cell_type": "code",
   "execution_count": null,
   "metadata": {},
   "outputs": [],
   "source": [
    "##gets"
   ]
  },
  {
   "cell_type": "code",
   "execution_count": null,
   "metadata": {},
   "outputs": [],
   "source": [
    "##inferance"
   ]
  },
  {
   "cell_type": "code",
   "execution_count": null,
   "metadata": {},
   "outputs": [],
   "source": [
    "##display"
   ]
  }
 ],
 "metadata": {
  "kernelspec": {
   "display_name": "Python 3",
   "language": "python",
   "name": "python3"
  },
  "language_info": {
   "codemirror_mode": {
    "name": "ipython",
    "version": 3
   },
   "file_extension": ".py",
   "mimetype": "text/x-python",
   "name": "python",
   "nbconvert_exporter": "python",
   "pygments_lexer": "ipython3",
   "version": "3.7.9"
  }
 },
 "nbformat": 4,
 "nbformat_minor": 4
}
