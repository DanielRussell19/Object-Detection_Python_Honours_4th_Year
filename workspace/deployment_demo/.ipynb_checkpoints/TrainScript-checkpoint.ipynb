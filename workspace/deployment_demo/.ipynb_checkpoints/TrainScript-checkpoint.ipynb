{
 "cells": [
  {
   "cell_type": "code",
   "execution_count": 5,
   "metadata": {},
   "outputs": [],
   "source": [
    "##imports\n",
    "\n",
    "##function carrying pre-defined veriables for models and labels\n",
    "\n",
    "##trigger train operation using pre-defined variables\n",
    "\n",
    "##trigger TensorBoard\n",
    "\n",
    "##End Operation"
   ]
  }
 ],
 "metadata": {
  "kernelspec": {
   "display_name": "Python 3",
   "language": "python",
   "name": "python3"
  },
  "language_info": {
   "codemirror_mode": {
    "name": "ipython",
    "version": 3
   },
   "file_extension": ".py",
   "mimetype": "text/x-python",
   "name": "python",
   "nbconvert_exporter": "python",
   "pygments_lexer": "ipython3",
   "version": "3.7.9"
  }
 },
 "nbformat": 4,
 "nbformat_minor": 4
}
