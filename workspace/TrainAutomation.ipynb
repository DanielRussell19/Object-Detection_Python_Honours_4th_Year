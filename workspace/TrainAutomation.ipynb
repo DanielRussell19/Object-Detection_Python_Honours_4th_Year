{
 "cells": [
  {
   "cell_type": "code",
   "execution_count": null,
   "metadata": {},
   "outputs": [],
   "source": [
    "testmodeldir = 'models/efficientdet_d0_coco17_tpu-32'\n",
    "testpipelinedir = 'models/efficientdet_d0_coco17_tpu-32/pipeline.config'\n",
    "\n",
    "modeldir_FasterRCNN = 'models/faster_rcnn_resnet50_v1_640x640_coco17_tpu-8'\n",
    "pipelinedir_FasterRCNN = 'models/faster_rcnn_resnet50_v1_640x640_coco17_tpu-8/pipeline.config'\n",
    "\n",
    "modeldir_EfficientDet = 'models/efficientdet_d0_coco17_tpu-32'\n",
    "pipelinedir_EfficientDet = 'models/efficientdet_d0_coco17_tpu-32/pipeline.config'\n",
    "\n",
    "modeldir_YOLO = 'models/x'\n",
    "pipelinedir_YOLO = 'models/x'"
   ]
  },
  {
   "cell_type": "code",
   "execution_count": null,
   "metadata": {
    "scrolled": false
   },
   "outputs": [],
   "source": [
    "!python model_main_tf2.py --model_dir=$testmodeldir --pipeline_config_path=$testpipelinedir"
   ]
  },
  {
   "cell_type": "code",
   "execution_count": 6,
   "metadata": {
    "scrolled": false
   },
   "outputs": [],
   "source": [
    "!cd models/efficientdet_d0_coco17_tpu-32"
   ]
  },
  {
   "cell_type": "code",
   "execution_count": null,
   "metadata": {},
   "outputs": [],
   "source": [
    "!tensorboard --logdir=./"
   ]
  },
  {
   "cell_type": "markdown",
   "metadata": {},
   "source": [
    "Tensorboard url: Localhost:6006"
   ]
  }
 ],
 "metadata": {
  "kernelspec": {
   "display_name": "Python 3",
   "language": "python",
   "name": "python3"
  },
  "language_info": {
   "codemirror_mode": {
    "name": "ipython",
    "version": 3
   },
   "file_extension": ".py",
   "mimetype": "text/x-python",
   "name": "python",
   "nbconvert_exporter": "python",
   "pygments_lexer": "ipython3",
   "version": "3.7.9"
  }
 },
 "nbformat": 4,
 "nbformat_minor": 4
}
