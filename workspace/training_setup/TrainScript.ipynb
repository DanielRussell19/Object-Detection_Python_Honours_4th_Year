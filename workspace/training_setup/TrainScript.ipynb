{
 "cells": [
  {
   "cell_type": "code",
   "execution_count": 3,
   "metadata": {},
   "outputs": [],
   "source": [
    "%matplotlib inline"
   ]
  },
  {
   "cell_type": "code",
   "execution_count": 4,
   "metadata": {},
   "outputs": [],
   "source": [
    "##imports\n",
    "import os\n",
    "import matplotlib\n",
    "import pathlib\n",
    "import tensorflow as tf\n",
    "\n",
    "##suppressed TensorFlow Logging\n",
    "##os.environ['TF_CPP_MIN_LOG_LEVEL'] = '2'\n",
    "##tf.get_logged().setLevel('ERROR')"
   ]
  },
  {
   "cell_type": "code",
   "execution_count": 5,
   "metadata": {},
   "outputs": [
    {
     "name": "stdout",
     "output_type": "stream",
     "text": [
      "x\n",
      "x\n"
     ]
    }
   ],
   "source": [
    "##retrieve train images\n",
    "trainimagepath = \"x\"\n",
    "\n",
    "trainimagefiles = ['x','x']\n",
    "\n",
    "print(trainimagepath)\n",
    "print(trainimagefiles[0])"
   ]
  },
  {
   "cell_type": "code",
   "execution_count": null,
   "metadata": {},
   "outputs": [],
   "source": [
    "##convert xml to Tensorflow record"
   ]
  },
  {
   "cell_type": "code",
   "execution_count": null,
   "metadata": {},
   "outputs": [],
   "source": [
    "##function carrying pre-defined veriables for models and labels"
   ]
  },
  {
   "cell_type": "code",
   "execution_count": null,
   "metadata": {},
   "outputs": [],
   "source": [
    "##trigger train operation using pre-defined variables\n",
    "\n",
    "# Lint as: python3\n",
    "# Copyright 2020 The TensorFlow Authors. All Rights Reserved.\n",
    "#\n",
    "# Licensed under the Apache License, Version 2.0 (the \"License\");\n",
    "# you may not use this file except in compliance with the License.\n",
    "# You may obtain a copy of the License at\n",
    "#\n",
    "#     http://www.apache.org/licenses/LICENSE-2.0\n",
    "#\n",
    "# Unless required by applicable law or agreed to in writing, software\n",
    "# distributed under the License is distributed on an \"AS IS\" BASIS,\n",
    "# WITHOUT WARRANTIES OR CONDITIONS OF ANY KIND, either express or implied.\n",
    "# See the License for the specific language governing permissions and\n",
    "# limitations under the License.\n",
    "# ==============================================================================\n",
    "\n",
    "r\"\"\"Creates and runs TF2 object detection models.\n",
    "\n",
    "For local training/evaluation run:\n",
    "PIPELINE_CONFIG_PATH=path/to/pipeline.config\n",
    "MODEL_DIR=/tmp/model_outputs\n",
    "NUM_TRAIN_STEPS=10000\n",
    "SAMPLE_1_OF_N_EVAL_EXAMPLES=1\n",
    "python model_main_tf2.py -- \\\n",
    "  --model_dir=$MODEL_DIR --num_train_steps=$NUM_TRAIN_STEPS \\\n",
    "  --sample_1_of_n_eval_examples=$SAMPLE_1_OF_N_EVAL_EXAMPLES \\\n",
    "  --pipeline_config_path=$PIPELINE_CONFIG_PATH \\\n",
    "  --alsologtostderr\n",
    "\"\"\"\n",
    "from absl import flags\n",
    "import tensorflow.compat.v2 as tf\n",
    "from object_detection import model_lib_v2\n",
    "\n",
    "flags.DEFINE_string('pipeline_config_path', None, 'Path to pipeline config '\n",
    "                    'file.')\n",
    "flags.DEFINE_integer('num_train_steps', None, 'Number of train steps.')\n",
    "flags.DEFINE_bool('eval_on_train_data', False, 'Enable evaluating on train '\n",
    "                  'data (only supported in distributed training).')\n",
    "flags.DEFINE_integer('sample_1_of_n_eval_examples', None, 'Will sample one of '\n",
    "                     'every n eval input examples, where n is provided.')\n",
    "flags.DEFINE_integer('sample_1_of_n_eval_on_train_examples', 5, 'Will sample '\n",
    "                     'one of every n train input examples for evaluation, '\n",
    "                     'where n is provided. This is only used if '\n",
    "                     '`eval_training_data` is True.')\n",
    "flags.DEFINE_string(\n",
    "    'model_dir', None, 'Path to output model directory '\n",
    "                       'where event and checkpoint files will be written.')\n",
    "flags.DEFINE_string(\n",
    "    'checkpoint_dir', None, 'Path to directory holding a checkpoint.  If '\n",
    "    '`checkpoint_dir` is provided, this binary operates in eval-only mode, '\n",
    "    'writing resulting metrics to `model_dir`.')\n",
    "\n",
    "flags.DEFINE_integer('eval_timeout', 3600, 'Number of seconds to wait for an'\n",
    "                     'evaluation checkpoint before exiting.')\n",
    "\n",
    "flags.DEFINE_bool('use_tpu', False, 'Whether the job is executing on a TPU.')\n",
    "flags.DEFINE_string(\n",
    "    'tpu_name',\n",
    "    default=None,\n",
    "    help='Name of the Cloud TPU for Cluster Resolvers.')\n",
    "flags.DEFINE_integer(\n",
    "    'num_workers', 1, 'When num_workers > 1, training uses '\n",
    "    'MultiWorkerMirroredStrategy. When num_workers = 1 it uses '\n",
    "    'MirroredStrategy.')\n",
    "flags.DEFINE_integer(\n",
    "    'checkpoint_every_n', 1000, 'Integer defining how often we checkpoint.')\n",
    "flags.DEFINE_boolean('record_summaries', True,\n",
    "                     ('Whether or not to record summaries during'\n",
    "                      ' training.'))\n",
    "\n",
    "FLAGS = flags.FLAGS\n",
    "\n",
    "\n",
    "def main(unused_argv):\n",
    "  flags.mark_flag_as_required('model_dir')\n",
    "  flags.mark_flag_as_required('pipeline_config_path')\n",
    "  tf.config.set_soft_device_placement(True)\n",
    "\n",
    "  if FLAGS.checkpoint_dir:\n",
    "    model_lib_v2.eval_continuously(\n",
    "        pipeline_config_path=FLAGS.pipeline_config_path,\n",
    "        model_dir=FLAGS.model_dir,\n",
    "        train_steps=FLAGS.num_train_steps,\n",
    "        sample_1_of_n_eval_examples=FLAGS.sample_1_of_n_eval_examples,\n",
    "        sample_1_of_n_eval_on_train_examples=(\n",
    "            FLAGS.sample_1_of_n_eval_on_train_examples),\n",
    "        checkpoint_dir=FLAGS.checkpoint_dir,\n",
    "        wait_interval=300, timeout=FLAGS.eval_timeout)\n",
    "  else:\n",
    "    if FLAGS.use_tpu:\n",
    "      # TPU is automatically inferred if tpu_name is None and\n",
    "      # we are running under cloud ai-platform.\n",
    "      resolver = tf.distribute.cluster_resolver.TPUClusterResolver(\n",
    "          FLAGS.tpu_name)\n",
    "      tf.config.experimental_connect_to_cluster(resolver)\n",
    "      tf.tpu.experimental.initialize_tpu_system(resolver)\n",
    "      strategy = tf.distribute.experimental.TPUStrategy(resolver)\n",
    "    elif FLAGS.num_workers > 1:\n",
    "      strategy = tf.distribute.experimental.MultiWorkerMirroredStrategy()\n",
    "    else:\n",
    "      strategy = tf.compat.v2.distribute.MirroredStrategy()\n",
    "\n",
    "    with strategy.scope():\n",
    "      model_lib_v2.train_loop(\n",
    "          pipeline_config_path=FLAGS.pipeline_config_path,\n",
    "          model_dir=FLAGS.model_dir,\n",
    "          train_steps=FLAGS.num_train_steps,\n",
    "          use_tpu=FLAGS.use_tpu,\n",
    "          checkpoint_every_n=FLAGS.checkpoint_every_n,\n",
    "          record_summaries=FLAGS.record_summaries)\n",
    "\n",
    "if __name__ == '__main__':\n",
    "  tf.compat.v1.app.run()\n"
   ]
  },
  {
   "cell_type": "code",
   "execution_count": null,
   "metadata": {},
   "outputs": [],
   "source": [
    "##trigger TensorBoard"
   ]
  },
  {
   "cell_type": "code",
   "execution_count": null,
   "metadata": {},
   "outputs": [],
   "source": [
    "##End Operation"
   ]
  }
 ],
 "metadata": {
  "kernelspec": {
   "display_name": "Python 3",
   "language": "python",
   "name": "python3"
  },
  "language_info": {
   "codemirror_mode": {
    "name": "ipython",
    "version": 3
   },
   "file_extension": ".py",
   "mimetype": "text/x-python",
   "name": "python",
   "nbconvert_exporter": "python",
   "pygments_lexer": "ipython3",
   "version": "3.7.9"
  }
 },
 "nbformat": 4,
 "nbformat_minor": 4
}
