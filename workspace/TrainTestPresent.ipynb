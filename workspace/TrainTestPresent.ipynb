{
 "cells": [
  {
   "cell_type": "markdown",
   "metadata": {},
   "source": [
    "# TrainTestPresent Prototype in Object Detection for Content Moderation"
   ]
  },
  {
   "cell_type": "markdown",
   "metadata": {},
   "source": [
    "# Train Variables"
   ]
  },
  {
   "cell_type": "code",
   "execution_count": 11,
   "metadata": {},
   "outputs": [],
   "source": [
    "#%load_ext tensorboard"
   ]
  },
  {
   "cell_type": "code",
   "execution_count": 12,
   "metadata": {},
   "outputs": [],
   "source": [
    "#from tensorboard import notebook\n",
    "#notebook.list()"
   ]
  },
  {
   "cell_type": "code",
   "execution_count": 13,
   "metadata": {},
   "outputs": [],
   "source": [
    "modeldir_FasterRCNN = 'models/faster_rcnn_resnet50_v1_640x640_coco17_tpu-8'\n",
    "pipelinedir_FasterRCNN = 'models/faster_rcnn_resnet50_v1_640x640_coco17_tpu-8/pipeline.config'\n",
    "\n",
    "modeldir_EfficientDet = 'models/efficientdet_d0_coco17_tpu-32'\n",
    "pipelinedir_EfficientDet = 'models/efficientdet_d0_coco17_tpu-32/pipeline.config'\n",
    "\n",
    "modeldir_YOLO = 'models/x'\n",
    "pipelinedir_YOLO = 'models/x'"
   ]
  },
  {
   "cell_type": "markdown",
   "metadata": {},
   "source": [
    "# Train"
   ]
  },
  {
   "cell_type": "code",
   "execution_count": 14,
   "metadata": {
    "scrolled": false
   },
   "outputs": [],
   "source": [
    "#!python model_main_tf2.py --model_dir=$modeldir_FasterRCNN --pipeline_config_path=$pipelinedir_FasterRCNN --checkpoint_every_n=3 --num_workers=4 --alsologtostderr\n",
    "#logdir = modeldir_FasterRCNN"
   ]
  },
  {
   "cell_type": "code",
   "execution_count": 15,
   "metadata": {
    "scrolled": false
   },
   "outputs": [],
   "source": [
    "#!python model_main_tf2.py --model_dir=$modeldir_EfficientDet --pipeline_config_path=$pipelinedir_EfficientDet --checkpoint_every_n=3 --num_workers=4 --alsologtostderr\n",
    "#logdir = modeldir_EfficientDet"
   ]
  },
  {
   "cell_type": "code",
   "execution_count": 16,
   "metadata": {
    "scrolled": false
   },
   "outputs": [],
   "source": [
    "#!python model_main_tf2.py --model_dir=$modeldir_YOLO --pipeline_config_path=$pipelinedir_YOLO --checkpoint_every_n=3 --num_workers=4 --alsologtostderr\n",
    "#logdir = modeldir_YOLO"
   ]
  },
  {
   "cell_type": "markdown",
   "metadata": {},
   "source": [
    "# Evaluation"
   ]
  },
  {
   "cell_type": "code",
   "execution_count": 17,
   "metadata": {
    "scrolled": false
   },
   "outputs": [],
   "source": [
    "#!python model_main_tf2.py --model_dir=$modeldir_FasterRCNN --pipeline_config_path=$pipelinedir_FasterRCNN checkpoint_dir=$modeldir_FasterRCNN/checkpoint --eval_dir=$modeldir_FasterRCNN/eval --checkpoint_every_n=3 --num_workers=4 --alsologtostderr\n",
    "#logdir = modeldir_FasterRCNN"
   ]
  },
  {
   "cell_type": "code",
   "execution_count": 18,
   "metadata": {
    "scrolled": false
   },
   "outputs": [],
   "source": [
    "#!python model_main_tf2.py --model_dir=$modeldir_EfficientDet --pipeline_config_path=$pipelinedir_EfficientDet checkpoint_dir=$modeldir_EfficientDet/checkpoint --eval_dir=$modeldir_EfficientDet/eval --checkpoint_every_n=3 --num_workers=4 --alsologtostderr\n",
    "#logdir = modeldir_EfficientDet"
   ]
  },
  {
   "cell_type": "code",
   "execution_count": 19,
   "metadata": {
    "scrolled": false
   },
   "outputs": [],
   "source": [
    "#!python model_main_tf2.py --model_dir=$modeldir_YOLO --pipeline_config_path=$pipelinedir_YOLO --checkpoint_every_n=3 --num_workers=4 --alsologtostderr\n",
    "#logdir = modeldir_YOLO"
   ]
  },
  {
   "cell_type": "markdown",
   "metadata": {},
   "source": [
    "# TensorBoard"
   ]
  },
  {
   "cell_type": "code",
   "execution_count": 20,
   "metadata": {
    "scrolled": false
   },
   "outputs": [],
   "source": [
    "#%tensorboard --logdir logdir\n",
    "#notebook.display(port=6006, height=1000)"
   ]
  },
  {
   "cell_type": "markdown",
   "metadata": {},
   "source": [
    "# Export"
   ]
  },
  {
   "cell_type": "code",
   "execution_count": null,
   "metadata": {},
   "outputs": [],
   "source": []
  },
  {
   "cell_type": "markdown",
   "metadata": {},
   "source": [
    "# Testing"
   ]
  },
  {
   "cell_type": "markdown",
   "metadata": {},
   "source": [
    "# Testing Imports"
   ]
  },
  {
   "cell_type": "code",
   "execution_count": null,
   "metadata": {},
   "outputs": [],
   "source": []
  },
  {
   "cell_type": "markdown",
   "metadata": {},
   "source": [
    "# Testing Variables"
   ]
  },
  {
   "cell_type": "code",
   "execution_count": null,
   "metadata": {},
   "outputs": [],
   "source": []
  },
  {
   "cell_type": "markdown",
   "metadata": {},
   "source": [
    "# Testing for inferance"
   ]
  },
  {
   "cell_type": "code",
   "execution_count": null,
   "metadata": {},
   "outputs": [],
   "source": []
  },
  {
   "cell_type": "markdown",
   "metadata": {},
   "source": [
    "# Final Presentation"
   ]
  },
  {
   "cell_type": "code",
   "execution_count": null,
   "metadata": {},
   "outputs": [],
   "source": []
  }
 ],
 "metadata": {
  "kernelspec": {
   "display_name": "Python 3",
   "language": "python",
   "name": "python3"
  },
  "language_info": {
   "codemirror_mode": {
    "name": "ipython",
    "version": 3
   },
   "file_extension": ".py",
   "mimetype": "text/x-python",
   "name": "python",
   "nbconvert_exporter": "python",
   "pygments_lexer": "ipython3",
   "version": "3.7.9"
  }
 },
 "nbformat": 4,
 "nbformat_minor": 4
}
